{
  "nbformat": 4,
  "nbformat_minor": 0,
  "metadata": {
    "colab": {
      "name": "cnn-batik-classification.ipynb",
      "version": "0.3.2",
      "provenance": [],
      "collapsed_sections": [],
      "include_colab_link": true
    },
    "kernelspec": {
      "name": "python2",
      "display_name": "Python 2"
    }
  },
  "cells": [
    {
      "cell_type": "markdown",
      "metadata": {
        "id": "view-in-github",
        "colab_type": "text"
      },
      "source": [
        "<a href=\"https://colab.research.google.com/github/agungsugiarto/cnn-batik-classification/blob/master/cnn_batik_classification.ipynb\" target=\"_parent\"><img src=\"https://colab.research.google.com/assets/colab-badge.svg\" alt=\"Open In Colab\"/></a>"
      ]
    },
    {
      "cell_type": "markdown",
      "metadata": {
        "id": "qt4lVBYQhiXI",
        "colab_type": "text"
      },
      "source": [
        "# Implementasi Deep Learning Berbasis Tensorflow Dan Convulutioanal Neural Network (CNN) Untuk Pengenalan Daerah Asal Motif Batik Indonesia\n",
        "\n",
        "---\n",
        "\n",
        "by [Agung Sugiarto](https://agungsugiarto.github.io)\n",
        "/ [GitHub](https://github.com/agungsugiarto/cnn-batik-classification.git)"
      ]
    },
    {
      "cell_type": "markdown",
      "metadata": {
        "id": "HynsjWNrjebE",
        "colab_type": "text"
      },
      "source": [
        "## Abstrak\n",
        "\n",
        "Indonesian merupakan bangsa yang terdiri dari berbagai etnik dan memiliki latar belakang budaya yang beraneka ragam. Salah satu hasil kebudayaan masyarakat Indonesia adalah Batik, batik mempunyai banyak macam-macam motif. Corak maupun motif batik tersebut tidak bisa lepas dari unsur-unsur yang melekat dari wilayah asal pembuatannya. Pengetahuan tentang pengenalan motif batik mungkin hanya dimiliki oleh orang-orang tertentu yang memiliki keahlian pada bidang terkait seperti bidang membatik dan tidak semua orang dapat mengenali motif batik tersebut. Namun seiring dengan berkembangnya jaman dan meningkatnya kebutuhan akan informasi mendorong manusia untuk mengembangkan teknologi baru agar pengolahan informasi dapat dilakukan dengan mudah dan cepat. Sehingga dibutuhkan suatu pendekatan dalam penyelesaian permasalahan ini. Salah satu pendekatan dalam pengenalan suatu gambar adalah Deep Learning, merupakan sebuah model neural network yang belakangan ini mulai ramai dikembangkan, hasil dari Deep Learning menunjukkan hasil yang baik dalam meningkatkan akurasi Image Classification atau kasuskasus lainnya. Penelitian ini bertujuan untuk mengetahui cara Deep Learning yaitu Convolutional Neural Network (CNN) dalam melakukan klasifikasi pengenalan daerah asal motif-motif batik.\n",
        "\n",
        "**Kata Kunci** : *Deep Leraning*, *Convolutional Neural Network*, *Image Classification*, *Batik*.\n"
      ]
    },
    {
      "cell_type": "markdown",
      "metadata": {
        "id": "GemPr1uOx9f3",
        "colab_type": "text"
      },
      "source": [
        "## FLowchart ##"
      ]
    },
    {
      "cell_type": "markdown",
      "metadata": {
        "id": "H2MmW_MHvYHb",
        "colab_type": "text"
      },
      "source": [
        "The following chart shows roughly how the data flows in the Convolutional Neural Network that is implemented below.\n",
        "\n",
        "![Flowchart](https://github.com/agungsugiarto/cnn-batik-classification/blob/master/images/arsitektur%20cnn.jpeg?raw=1)\n",
        "\n",
        "The input image is processed in the first convolutional layer using the filter-weights. This results in 16 new images, one for each filter in the convolutional layer. The images are also down-sampled so the image resolution is decreased from 28x28 to 14x14.\n",
        "\n",
        "These 16 smaller images are then processed in the second convolutional layer. We need filter-weights for each of these 16 channels, and we need filter-weights for each output channel of this layer. There are 36 output channels so there are a total of 16 x 36 = 576 filters in the second convolutional layer. The resulting images are down-sampled again to 7x7 pixels.\n",
        "\n",
        "The output of the second convolutional layer is 36 images of 7x7 pixels each. These are then flattened to a single vector of length 7 x 7 x 36 = 1764, which is used as the input to a fully-connected layer with 128 neurons (or elements). This feeds into another fully-connected layer with 10 neurons, one for each of the classes, which is used to determine the class of the image, that is, which number is depicted in the image.\n",
        "\n",
        "The convolutional filters are initially chosen at random, so the classification is done randomly. The error between the predicted and true class of the input image is measured as the so-called cross-entropy. The optimizer then automatically propagates this error back through the Convolutional Network using the chain-rule of differentiation and updates the filter-weights so as to improve the classification error. This is done iteratively thousands of times until the classification error is sufficiently low.\n",
        "\n",
        "These particular filter-weights and intermediate images are the results of one optimization run and may look different if you re-run this Notebook.\n",
        "\n",
        "Note that the computation in TensorFlow is actually done on a batch of images instead of a single image, which makes the computation more efficient. This means the flowchart actually has one more data-dimension when implemented in TensorFlow."
      ]
    },
    {
      "cell_type": "markdown",
      "metadata": {
        "id": "Um0DB9CdxvYo",
        "colab_type": "text"
      },
      "source": [
        "## Convulutional Layer ##"
      ]
    },
    {
      "cell_type": "markdown",
      "metadata": {
        "id": "t1lBdJk_yDxh",
        "colab_type": "text"
      },
      "source": [
        "The following chart shows the basic idea of processing an image in the first convolutional layer. The input image depicts the number 7 and four copies of the image are shown here, so we can see more clearly how the filter is being moved to different positions of the image. For each position of the filter, the dot-product is being calculated between the filter and the image pixels under the filter, which results in a single pixel in the output image. So moving the filter across the entire input image results in a new image being generated.\n",
        "\n",
        "The red filter-weights means that the filter has a positive reaction to black pixels in the input image, while blue pixels means the filter has a negative reaction to black pixels.\n",
        "\n",
        "In this case it appears that the filter recognizes the horizontal line of the 7-digit, as can be seen from its stronger reaction to that line in the output image.\n",
        "\n",
        "![Convolution example](https://raw.githubusercontent.com/Hvass-Labs/TensorFlow-Tutorials/master/images/02_convolution.png)"
      ]
    },
    {
      "cell_type": "markdown",
      "metadata": {
        "id": "1vlGpQGXybMD",
        "colab_type": "text"
      },
      "source": [
        "The step-size for moving the filter across the input is called the stride. There is a stride for moving the filter horizontally (x-axis) and another stride for moving vertically (y-axis).\n",
        "\n",
        "In the source-code below, the stride is set to 1 in both directions, which means the filter starts in the upper left corner of the input image and is being moved 1 pixel to the right in each step. When the filter reaches the end of the image to the right, then the filter is moved back to the left side and 1 pixel down the image. This continues until the filter has reached the lower right corner of the input image and the entire output image has been generated.\n",
        "\n",
        "When the filter reaches the end of the right-side as well as the bottom of the input image, then it can be padded with zeroes (white pixels). This causes the output image to be of the exact same dimension as the input image.\n",
        "\n",
        "Furthermore, the output of the convolution may be passed through a so-called Rectified Linear Unit (ReLU), which merely ensures that the output is positive because negative values are set to zero. The output may also be down-sampled by so-called max-pooling, which considers small windows of 2x2 pixels and only keeps the largest of those pixels. This halves the resolution of the input image e.g. from 28x28 to 14x14 pixels.\n",
        "\n",
        "Note that the second convolutional layer is more complicated because it takes 16 input channels. We want a separate filter for each input channel, so we need 16 filters instead of just one. Furthermore, we want 36 output channels from the second convolutional layer, so in total we need 16 x 36 = 576 filters for the second convolutional layer. It can be a bit challenging to understand how this works."
      ]
    },
    {
      "cell_type": "markdown",
      "metadata": {
        "id": "YwzmfLHAkOi5",
        "colab_type": "text"
      },
      "source": [
        "##Import Dependency##"
      ]
    },
    {
      "cell_type": "code",
      "metadata": {
        "id": "bTKVhRAPkbQw",
        "colab_type": "code",
        "colab": {}
      },
      "source": [
        "import matplotlib.pyplot as plt\n",
        "import tensorflow as tf\n",
        "import numpy as np\n",
        "from sklearn.metrics import confusion_matrix\n",
        "import time\n",
        "from datetime import timedelta\n",
        "import math"
      ],
      "execution_count": 0,
      "outputs": []
    },
    {
      "cell_type": "markdown",
      "metadata": {
        "id": "XifOpkTMlT8a",
        "colab_type": "text"
      },
      "source": [
        "This was developed using Python 3.6 (Anaconda) and TensorFlow version:"
      ]
    },
    {
      "cell_type": "code",
      "metadata": {
        "id": "apxTQkbVlVcj",
        "colab_type": "code",
        "outputId": "baf781ea-3623-4953-d9dc-3189754f0365",
        "colab": {
          "base_uri": "https://localhost:8080/",
          "height": 34
        }
      },
      "source": [
        "tf.__version__"
      ],
      "execution_count": 0,
      "outputs": [
        {
          "output_type": "execute_result",
          "data": {
            "text/plain": [
              "'1.13.1'"
            ]
          },
          "metadata": {
            "tags": []
          },
          "execution_count": 2
        }
      ]
    },
    {
      "cell_type": "markdown",
      "metadata": {
        "id": "M7Mw89T5lkWD",
        "colab_type": "text"
      },
      "source": [
        "## Configuration of Neural Network\n",
        "\n",
        "The configuration of the Convolutional Neural Network is defined here for convenience, so you can easily find and change these numbers and re-run the Notebook."
      ]
    },
    {
      "cell_type": "code",
      "metadata": {
        "id": "n1w1GYiPl2nh",
        "colab_type": "code",
        "colab": {}
      },
      "source": [
        "# Convolutional Layer 1.\n",
        "filter_size1 = 5          # Convolution filters are 5 x 5 pixels.\n",
        "num_filters1 = 16         # There are 16 of these filters.\n",
        "\n",
        "# Convolutional Layer 2.\n",
        "filter_size2 = 5          # Convolution filters are 5 x 5 pixels.\n",
        "num_filters2 = 36         # There are 36 of these filters.\n",
        "\n",
        "# Fully-connected layer.\n",
        "fc_size = 128             # Number of neurons in fully-connected layer."
      ],
      "execution_count": 0,
      "outputs": []
    },
    {
      "cell_type": "markdown",
      "metadata": {
        "id": "wJ4ZWS7-mAVB",
        "colab_type": "text"
      },
      "source": [
        "## Load Dataset ##"
      ]
    }
  ]
}