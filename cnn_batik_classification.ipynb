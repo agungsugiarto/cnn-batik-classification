{
  "nbformat": 4,
  "nbformat_minor": 0,
  "metadata": {
    "colab": {
      "name": "cnn-batik-classification.ipynb",
      "version": "0.3.2",
      "provenance": [],
      "collapsed_sections": [],
      "include_colab_link": true
    },
    "kernelspec": {
      "name": "python2",
      "display_name": "Python 2"
    }
  },
  "cells": [
    {
      "cell_type": "markdown",
      "metadata": {
        "id": "view-in-github",
        "colab_type": "text"
      },
      "source": [
        "<a href=\"https://colab.research.google.com/github/agungsugiarto/cnn-batik-classification/blob/master/cnn_batik_classification.ipynb\" target=\"_parent\"><img src=\"https://colab.research.google.com/assets/colab-badge.svg\" alt=\"Open In Colab\"/></a>"
      ]
    },
    {
      "cell_type": "markdown",
      "metadata": {
        "id": "qt4lVBYQhiXI",
        "colab_type": "text"
      },
      "source": [
        "# Implementasi Deep Learning Berbasis Tensorflow Dan Convulutioanal Neural Network (CNN) Untuk Pengenalan Daerah Asal Motif Batik Indonesia\n",
        "\n",
        "---\n",
        "\n",
        "by [Agung Sugiarto](https://agungsugiarto.github.io)\n",
        "/ [GitHub](https://github.com/agungsugiarto/cnn-batik-classification.git)"
      ]
    },
    {
      "cell_type": "markdown",
      "metadata": {
        "id": "HynsjWNrjebE",
        "colab_type": "text"
      },
      "source": [
        "## Abstrak\n",
        "\n",
        "Indonesian merupakan bangsa yang terdiri dari berbagai etnik dan memiliki latar belakang budaya yang beraneka ragam. Salah satu hasil kebudayaan masyarakat Indonesia adalah Batik, batik mempunyai banyak macam-macam motif. Corak maupun motif batik tersebut tidak bisa lepas dari unsur-unsur yang melekat dari wilayah asal pembuatannya. Pengetahuan tentang pengenalan motif batik mungkin hanya dimiliki oleh orang-orang tertentu yang memiliki keahlian pada bidang terkait seperti bidang membatik dan tidak semua orang dapat mengenali motif batik tersebut. Namun seiring dengan berkembangnya jaman dan meningkatnya kebutuhan akan informasi mendorong manusia untuk mengembangkan teknologi baru agar pengolahan informasi dapat dilakukan dengan mudah dan cepat. Sehingga dibutuhkan suatu pendekatan dalam penyelesaian permasalahan ini. Salah satu pendekatan dalam pengenalan suatu gambar adalah Deep Learning, merupakan sebuah model neural network yang belakangan ini mulai ramai dikembangkan, hasil dari Deep Learning menunjukkan hasil yang baik dalam meningkatkan akurasi Image Classification atau kasuskasus lainnya. Penelitian ini bertujuan untuk mengetahui cara Deep Learning yaitu Convolutional Neural Network (CNN) dalam melakukan klasifikasi pengenalan daerah asal motif-motif batik.\n",
        "\n",
        "**Kata Kunci** : *Deep Leraning*, *Convolutional Neural Network*, *Image Classification*, *Batik*.\n"
      ]
    },
    {
      "cell_type": "markdown",
      "metadata": {
        "id": "YwzmfLHAkOi5",
        "colab_type": "text"
      },
      "source": [
        "##Import Dependency##"
      ]
    },
    {
      "cell_type": "code",
      "metadata": {
        "id": "bTKVhRAPkbQw",
        "colab_type": "code",
        "colab": {}
      },
      "source": [
        "import matplotlib.pyplot as plt\n",
        "import tensorflow as tf\n",
        "import numpy as np\n",
        "from sklearn.metrics import confusion_matrix\n",
        "import time\n",
        "from datetime import timedelta\n",
        "import math"
      ],
      "execution_count": 0,
      "outputs": []
    },
    {
      "cell_type": "markdown",
      "metadata": {
        "id": "XifOpkTMlT8a",
        "colab_type": "text"
      },
      "source": [
        "This was developed using Python 3.6 (Anaconda) and TensorFlow version:"
      ]
    },
    {
      "cell_type": "code",
      "metadata": {
        "id": "apxTQkbVlVcj",
        "colab_type": "code",
        "colab": {
          "base_uri": "https://localhost:8080/",
          "height": 34
        },
        "outputId": "baf781ea-3623-4953-d9dc-3189754f0365"
      },
      "source": [
        "tf.__version__"
      ],
      "execution_count": 2,
      "outputs": [
        {
          "output_type": "execute_result",
          "data": {
            "text/plain": [
              "'1.13.1'"
            ]
          },
          "metadata": {
            "tags": []
          },
          "execution_count": 2
        }
      ]
    },
    {
      "cell_type": "markdown",
      "metadata": {
        "id": "M7Mw89T5lkWD",
        "colab_type": "text"
      },
      "source": [
        "## Configuration of Neural Network\n",
        "\n",
        "The configuration of the Convolutional Neural Network is defined here for convenience, so you can easily find and change these numbers and re-run the Notebook."
      ]
    },
    {
      "cell_type": "code",
      "metadata": {
        "id": "n1w1GYiPl2nh",
        "colab_type": "code",
        "colab": {}
      },
      "source": [
        "# Convolutional Layer 1.\n",
        "filter_size1 = 5          # Convolution filters are 5 x 5 pixels.\n",
        "num_filters1 = 16         # There are 16 of these filters.\n",
        "\n",
        "# Convolutional Layer 2.\n",
        "filter_size2 = 5          # Convolution filters are 5 x 5 pixels.\n",
        "num_filters2 = 36         # There are 36 of these filters.\n",
        "\n",
        "# Fully-connected layer.\n",
        "fc_size = 128             # Number of neurons in fully-connected layer."
      ],
      "execution_count": 0,
      "outputs": []
    },
    {
      "cell_type": "markdown",
      "metadata": {
        "id": "wJ4ZWS7-mAVB",
        "colab_type": "text"
      },
      "source": [
        "## Load Dataset ##"
      ]
    }
  ]
}